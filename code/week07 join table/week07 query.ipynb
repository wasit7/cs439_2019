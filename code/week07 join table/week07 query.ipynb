{
 "cells": [
  {
   "cell_type": "markdown",
   "metadata": {},
   "source": [
    "# Questions [40marks]\n",
    "* Q1 Who did spend most money for renting?\n",
    "* Q2 Which room does make the most amount of income?\n",
    "* Q3 How many times Jack Jones rent the room?\n",
    "* Q4 How many times Claire Taylor rent each room?\n",
    "* Q5 what is the total income of ALL rooms in June? Between 1st June 2018(inclusive) and 30th June 2018(inclusive), (use return date).\n",
    "* Q6 What are the total incomes of EACH room in June? Between 1st June 2018(inclusive) and 30th June 2018(inclusive), (use return date)\n",
    "* Q7 Find members that have total rent time exactly 8 hours in June?\n",
    "* Q8 Find members that have total rent time greater than or equal than 9 hours in June?\n",
    "* Q9 Find the total rent duration of EACH room in June?\n",
    "* Q10 Find the total income of EACH room in June?\n",
    "\n",
    "# คำถาม [ข้อละ 4 คะแนน รวม 40 คะแนน]\n",
    "* Q1 ใครจ่ายเงินค่าเช่ามากที่สุด\n",
    "* Q2 ห้องเช่าใดทำรายได้มากที่สุด\n",
    "* Q3 Jack Jones เช่าห้องไปกี่ครั้ง\n",
    "* Q4 Claire Taylor เช่าแต่ละห้องไปกี่ครั้ง\n",
    "* Q5 ในเดือนมิถุนายนมีรายรับรวมเท่าใด\n",
    "* Q6 ในเดือนมิถุนายนแต่ละห้องมีรายรับรวมเท่าใด\n",
    "* Q7 หาชื่อสมาชิกที่เช่าห้อง 8 ชั่วโมงในเดือนมิถุนายน\n",
    "* Q8 หาชื่อสมาชิกที่เช่าห้องมากกว่าหรือเท่ากับ 9 ชั่วโมงในเดือนมิถุนายน\n",
    "* Q9 หาระยะเวลาเช่ารวมของแต่ละห้องในเดือนมิถุนายน\n",
    "* Q10 หารายได้รวมของแต่ละห้องในเดือนมิถุนายน"
   ]
  },
  {
   "cell_type": "code",
   "execution_count": 1,
   "metadata": {},
   "outputs": [],
   "source": [
    "import pandas as pd"
   ]
  },
  {
   "cell_type": "code",
   "execution_count": 17,
   "metadata": {},
   "outputs": [],
   "source": [
    "df_member = pd.read_csv('member.csv')\n",
    "df_member.drop(labels=['Unnamed: 0', 'mobile'], axis=1, inplace=True)\n",
    "df_room = pd.read_csv('room.csv')\n",
    "df_room.drop(labels=['Unnamed: 0', 'isavailable'], axis=1, inplace=True)\n",
    "df_rent = pd.read_csv('rent.csv')\n",
    "df_rent.drop(labels=['Unnamed: 0'], axis=1, inplace=True)"
   ]
  },
  {
   "cell_type": "code",
   "execution_count": 18,
   "metadata": {},
   "outputs": [
    {
     "data": {
      "text/html": [
       "<div>\n",
       "<style scoped>\n",
       "    .dataframe tbody tr th:only-of-type {\n",
       "        vertical-align: middle;\n",
       "    }\n",
       "\n",
       "    .dataframe tbody tr th {\n",
       "        vertical-align: top;\n",
       "    }\n",
       "\n",
       "    .dataframe thead th {\n",
       "        text-align: right;\n",
       "    }\n",
       "</style>\n",
       "<table border=\"1\" class=\"dataframe\">\n",
       "  <thead>\n",
       "    <tr style=\"text-align: right;\">\n",
       "      <th></th>\n",
       "      <th>id</th>\n",
       "      <th>name</th>\n",
       "    </tr>\n",
       "  </thead>\n",
       "  <tbody>\n",
       "    <tr>\n",
       "      <th>0</th>\n",
       "      <td>1</td>\n",
       "      <td>Oscar Williams</td>\n",
       "    </tr>\n",
       "    <tr>\n",
       "      <th>1</th>\n",
       "      <td>2</td>\n",
       "      <td>James Jones</td>\n",
       "    </tr>\n",
       "    <tr>\n",
       "      <th>2</th>\n",
       "      <td>3</td>\n",
       "      <td>Claire Thomas</td>\n",
       "    </tr>\n",
       "    <tr>\n",
       "      <th>3</th>\n",
       "      <td>4</td>\n",
       "      <td>Oliver Johnson</td>\n",
       "    </tr>\n",
       "    <tr>\n",
       "      <th>4</th>\n",
       "      <td>5</td>\n",
       "      <td>Oliver Jones</td>\n",
       "    </tr>\n",
       "  </tbody>\n",
       "</table>\n",
       "</div>"
      ],
      "text/plain": [
       "   id            name\n",
       "0   1  Oscar Williams\n",
       "1   2     James Jones\n",
       "2   3   Claire Thomas\n",
       "3   4  Oliver Johnson\n",
       "4   5    Oliver Jones"
      ]
     },
     "execution_count": 18,
     "metadata": {},
     "output_type": "execute_result"
    }
   ],
   "source": [
    "df_member.head()"
   ]
  },
  {
   "cell_type": "code",
   "execution_count": 19,
   "metadata": {},
   "outputs": [
    {
     "data": {
      "text/html": [
       "<div>\n",
       "<style scoped>\n",
       "    .dataframe tbody tr th:only-of-type {\n",
       "        vertical-align: middle;\n",
       "    }\n",
       "\n",
       "    .dataframe tbody tr th {\n",
       "        vertical-align: top;\n",
       "    }\n",
       "\n",
       "    .dataframe thead th {\n",
       "        text-align: right;\n",
       "    }\n",
       "</style>\n",
       "<table border=\"1\" class=\"dataframe\">\n",
       "  <thead>\n",
       "    <tr style=\"text-align: right;\">\n",
       "      <th></th>\n",
       "      <th>id</th>\n",
       "      <th>number</th>\n",
       "      <th>hour_price</th>\n",
       "    </tr>\n",
       "  </thead>\n",
       "  <tbody>\n",
       "    <tr>\n",
       "      <th>0</th>\n",
       "      <td>6</td>\n",
       "      <td>101</td>\n",
       "      <td>105</td>\n",
       "    </tr>\n",
       "    <tr>\n",
       "      <th>1</th>\n",
       "      <td>7</td>\n",
       "      <td>102</td>\n",
       "      <td>100</td>\n",
       "    </tr>\n",
       "    <tr>\n",
       "      <th>2</th>\n",
       "      <td>8</td>\n",
       "      <td>103</td>\n",
       "      <td>170</td>\n",
       "    </tr>\n",
       "    <tr>\n",
       "      <th>3</th>\n",
       "      <td>9</td>\n",
       "      <td>104</td>\n",
       "      <td>130</td>\n",
       "    </tr>\n",
       "    <tr>\n",
       "      <th>4</th>\n",
       "      <td>10</td>\n",
       "      <td>105</td>\n",
       "      <td>199</td>\n",
       "    </tr>\n",
       "  </tbody>\n",
       "</table>\n",
       "</div>"
      ],
      "text/plain": [
       "   id  number  hour_price\n",
       "0   6     101         105\n",
       "1   7     102         100\n",
       "2   8     103         170\n",
       "3   9     104         130\n",
       "4  10     105         199"
      ]
     },
     "execution_count": 19,
     "metadata": {},
     "output_type": "execute_result"
    }
   ],
   "source": [
    "df_room.head()"
   ]
  },
  {
   "cell_type": "code",
   "execution_count": 20,
   "metadata": {},
   "outputs": [
    {
     "data": {
      "text/html": [
       "<div>\n",
       "<style scoped>\n",
       "    .dataframe tbody tr th:only-of-type {\n",
       "        vertical-align: middle;\n",
       "    }\n",
       "\n",
       "    .dataframe tbody tr th {\n",
       "        vertical-align: top;\n",
       "    }\n",
       "\n",
       "    .dataframe thead th {\n",
       "        text-align: right;\n",
       "    }\n",
       "</style>\n",
       "<table border=\"1\" class=\"dataframe\">\n",
       "  <thead>\n",
       "    <tr style=\"text-align: right;\">\n",
       "      <th></th>\n",
       "      <th>id</th>\n",
       "      <th>start</th>\n",
       "      <th>stop</th>\n",
       "      <th>member_id</th>\n",
       "      <th>room_id</th>\n",
       "      <th>cost</th>\n",
       "    </tr>\n",
       "  </thead>\n",
       "  <tbody>\n",
       "    <tr>\n",
       "      <th>0</th>\n",
       "      <td>383</td>\n",
       "      <td>2018-05-09 08:01:18.462109</td>\n",
       "      <td>2018-05-09 09:01:18.462109</td>\n",
       "      <td>48</td>\n",
       "      <td>7</td>\n",
       "      <td>100.0</td>\n",
       "    </tr>\n",
       "    <tr>\n",
       "      <th>1</th>\n",
       "      <td>384</td>\n",
       "      <td>2018-05-09 08:01:18.462109</td>\n",
       "      <td>2018-05-09 10:01:18.462109</td>\n",
       "      <td>1</td>\n",
       "      <td>9</td>\n",
       "      <td>260.0</td>\n",
       "    </tr>\n",
       "    <tr>\n",
       "      <th>2</th>\n",
       "      <td>385</td>\n",
       "      <td>2018-05-09 09:01:18.462109</td>\n",
       "      <td>2018-05-09 10:01:18.462109</td>\n",
       "      <td>67</td>\n",
       "      <td>10</td>\n",
       "      <td>199.0</td>\n",
       "    </tr>\n",
       "    <tr>\n",
       "      <th>3</th>\n",
       "      <td>386</td>\n",
       "      <td>2018-05-09 10:01:18.462109</td>\n",
       "      <td>2018-05-09 12:01:18.462109</td>\n",
       "      <td>18</td>\n",
       "      <td>7</td>\n",
       "      <td>200.0</td>\n",
       "    </tr>\n",
       "    <tr>\n",
       "      <th>4</th>\n",
       "      <td>387</td>\n",
       "      <td>2018-05-09 12:01:18.462109</td>\n",
       "      <td>2018-05-09 15:01:18.462109</td>\n",
       "      <td>86</td>\n",
       "      <td>6</td>\n",
       "      <td>315.0</td>\n",
       "    </tr>\n",
       "  </tbody>\n",
       "</table>\n",
       "</div>"
      ],
      "text/plain": [
       "    id                       start                        stop  member_id  \\\n",
       "0  383  2018-05-09 08:01:18.462109  2018-05-09 09:01:18.462109         48   \n",
       "1  384  2018-05-09 08:01:18.462109  2018-05-09 10:01:18.462109          1   \n",
       "2  385  2018-05-09 09:01:18.462109  2018-05-09 10:01:18.462109         67   \n",
       "3  386  2018-05-09 10:01:18.462109  2018-05-09 12:01:18.462109         18   \n",
       "4  387  2018-05-09 12:01:18.462109  2018-05-09 15:01:18.462109         86   \n",
       "\n",
       "   room_id   cost  \n",
       "0        7  100.0  \n",
       "1        9  260.0  \n",
       "2       10  199.0  \n",
       "3        7  200.0  \n",
       "4        6  315.0  "
      ]
     },
     "execution_count": 20,
     "metadata": {},
     "output_type": "execute_result"
    }
   ],
   "source": [
    "df_rent.head()"
   ]
  },
  {
   "cell_type": "code",
   "execution_count": 45,
   "metadata": {},
   "outputs": [],
   "source": [
    "df=df_rent\\\n",
    "    .merge(df_member, left_on='member_id', right_on='id')\\\n",
    "    .drop(labels=['id_y'], axis=1)\\\n",
    "    .merge(df_room, left_on='room_id', right_on='id')\\\n",
    "    .drop(labels=['id'], axis=1)"
   ]
  },
  {
   "cell_type": "code",
   "execution_count": 46,
   "metadata": {},
   "outputs": [
    {
     "data": {
      "text/html": [
       "<div>\n",
       "<style scoped>\n",
       "    .dataframe tbody tr th:only-of-type {\n",
       "        vertical-align: middle;\n",
       "    }\n",
       "\n",
       "    .dataframe tbody tr th {\n",
       "        vertical-align: top;\n",
       "    }\n",
       "\n",
       "    .dataframe thead th {\n",
       "        text-align: right;\n",
       "    }\n",
       "</style>\n",
       "<table border=\"1\" class=\"dataframe\">\n",
       "  <thead>\n",
       "    <tr style=\"text-align: right;\">\n",
       "      <th></th>\n",
       "      <th>id_x</th>\n",
       "      <th>start</th>\n",
       "      <th>stop</th>\n",
       "      <th>member_id</th>\n",
       "      <th>room_id</th>\n",
       "      <th>cost</th>\n",
       "      <th>name</th>\n",
       "      <th>number</th>\n",
       "      <th>hour_price</th>\n",
       "    </tr>\n",
       "  </thead>\n",
       "  <tbody>\n",
       "    <tr>\n",
       "      <th>0</th>\n",
       "      <td>383</td>\n",
       "      <td>2018-05-09 08:01:18.462109</td>\n",
       "      <td>2018-05-09 09:01:18.462109</td>\n",
       "      <td>48</td>\n",
       "      <td>7</td>\n",
       "      <td>100.0</td>\n",
       "      <td>Thomas Thomas</td>\n",
       "      <td>102</td>\n",
       "      <td>100</td>\n",
       "    </tr>\n",
       "    <tr>\n",
       "      <th>1</th>\n",
       "      <td>1839</td>\n",
       "      <td>2018-07-10 12:01:18.462109</td>\n",
       "      <td>2018-07-10 13:01:18.462109</td>\n",
       "      <td>48</td>\n",
       "      <td>7</td>\n",
       "      <td>100.0</td>\n",
       "      <td>Thomas Thomas</td>\n",
       "      <td>102</td>\n",
       "      <td>100</td>\n",
       "    </tr>\n",
       "    <tr>\n",
       "      <th>2</th>\n",
       "      <td>2676</td>\n",
       "      <td>2018-08-16 01:01:18.462109</td>\n",
       "      <td>2018-08-16 02:01:18.462109</td>\n",
       "      <td>48</td>\n",
       "      <td>7</td>\n",
       "      <td>100.0</td>\n",
       "      <td>Thomas Thomas</td>\n",
       "      <td>102</td>\n",
       "      <td>100</td>\n",
       "    </tr>\n",
       "    <tr>\n",
       "      <th>3</th>\n",
       "      <td>3044</td>\n",
       "      <td>2018-08-31 02:01:18.462109</td>\n",
       "      <td>2018-08-31 03:01:18.462109</td>\n",
       "      <td>48</td>\n",
       "      <td>7</td>\n",
       "      <td>100.0</td>\n",
       "      <td>Thomas Thomas</td>\n",
       "      <td>102</td>\n",
       "      <td>100</td>\n",
       "    </tr>\n",
       "    <tr>\n",
       "      <th>4</th>\n",
       "      <td>3105</td>\n",
       "      <td>2018-09-02 13:01:18.462109</td>\n",
       "      <td>2018-09-02 16:01:18.462109</td>\n",
       "      <td>48</td>\n",
       "      <td>7</td>\n",
       "      <td>300.0</td>\n",
       "      <td>Thomas Thomas</td>\n",
       "      <td>102</td>\n",
       "      <td>100</td>\n",
       "    </tr>\n",
       "  </tbody>\n",
       "</table>\n",
       "</div>"
      ],
      "text/plain": [
       "   id_x                       start                        stop  member_id  \\\n",
       "0   383  2018-05-09 08:01:18.462109  2018-05-09 09:01:18.462109         48   \n",
       "1  1839  2018-07-10 12:01:18.462109  2018-07-10 13:01:18.462109         48   \n",
       "2  2676  2018-08-16 01:01:18.462109  2018-08-16 02:01:18.462109         48   \n",
       "3  3044  2018-08-31 02:01:18.462109  2018-08-31 03:01:18.462109         48   \n",
       "4  3105  2018-09-02 13:01:18.462109  2018-09-02 16:01:18.462109         48   \n",
       "\n",
       "   room_id   cost           name  number  hour_price  \n",
       "0        7  100.0  Thomas Thomas     102         100  \n",
       "1        7  100.0  Thomas Thomas     102         100  \n",
       "2        7  100.0  Thomas Thomas     102         100  \n",
       "3        7  100.0  Thomas Thomas     102         100  \n",
       "4        7  300.0  Thomas Thomas     102         100  "
      ]
     },
     "execution_count": 46,
     "metadata": {},
     "output_type": "execute_result"
    }
   ],
   "source": [
    "df.head()"
   ]
  },
  {
   "cell_type": "markdown",
   "metadata": {},
   "source": [
    "# Q1 Who did spend most money for renting?"
   ]
  },
  {
   "cell_type": "code",
   "execution_count": 57,
   "metadata": {},
   "outputs": [
    {
     "data": {
      "text/html": [
       "<div>\n",
       "<style scoped>\n",
       "    .dataframe tbody tr th:only-of-type {\n",
       "        vertical-align: middle;\n",
       "    }\n",
       "\n",
       "    .dataframe tbody tr th {\n",
       "        vertical-align: top;\n",
       "    }\n",
       "\n",
       "    .dataframe thead tr th {\n",
       "        text-align: left;\n",
       "    }\n",
       "\n",
       "    .dataframe thead tr:last-of-type th {\n",
       "        text-align: right;\n",
       "    }\n",
       "</style>\n",
       "<table border=\"1\" class=\"dataframe\">\n",
       "  <thead>\n",
       "    <tr>\n",
       "      <th></th>\n",
       "      <th></th>\n",
       "      <th>cost</th>\n",
       "    </tr>\n",
       "    <tr>\n",
       "      <th></th>\n",
       "      <th></th>\n",
       "      <th>sum</th>\n",
       "    </tr>\n",
       "    <tr>\n",
       "      <th>member_id</th>\n",
       "      <th>name</th>\n",
       "      <th></th>\n",
       "    </tr>\n",
       "  </thead>\n",
       "  <tbody>\n",
       "    <tr>\n",
       "      <th>94</th>\n",
       "      <th>Oscar Smith</th>\n",
       "      <td>15116.0</td>\n",
       "    </tr>\n",
       "  </tbody>\n",
       "</table>\n",
       "</div>"
      ],
      "text/plain": [
       "                          cost\n",
       "                           sum\n",
       "member_id name                \n",
       "94        Oscar Smith  15116.0"
      ]
     },
     "execution_count": 57,
     "metadata": {},
     "output_type": "execute_result"
    }
   ],
   "source": [
    "df.groupby(by=['member_id','name'])\\\n",
    "    .agg({'cost' : ['sum']})\\\n",
    "    .sort_values(('cost','sum'),ascending=False)\\\n",
    "    .head(1)"
   ]
  },
  {
   "cell_type": "markdown",
   "metadata": {},
   "source": [
    "# Q2 Which room does make the most amount of income?"
   ]
  },
  {
   "cell_type": "code",
   "execution_count": 59,
   "metadata": {},
   "outputs": [
    {
     "data": {
      "text/html": [
       "<div>\n",
       "<style scoped>\n",
       "    .dataframe tbody tr th:only-of-type {\n",
       "        vertical-align: middle;\n",
       "    }\n",
       "\n",
       "    .dataframe tbody tr th {\n",
       "        vertical-align: top;\n",
       "    }\n",
       "\n",
       "    .dataframe thead tr th {\n",
       "        text-align: left;\n",
       "    }\n",
       "\n",
       "    .dataframe thead tr:last-of-type th {\n",
       "        text-align: right;\n",
       "    }\n",
       "</style>\n",
       "<table border=\"1\" class=\"dataframe\">\n",
       "  <thead>\n",
       "    <tr>\n",
       "      <th></th>\n",
       "      <th></th>\n",
       "      <th>cost</th>\n",
       "    </tr>\n",
       "    <tr>\n",
       "      <th></th>\n",
       "      <th></th>\n",
       "      <th>sum</th>\n",
       "    </tr>\n",
       "    <tr>\n",
       "      <th>room_id</th>\n",
       "      <th>number</th>\n",
       "      <th></th>\n",
       "    </tr>\n",
       "  </thead>\n",
       "  <tbody>\n",
       "    <tr>\n",
       "      <th>10</th>\n",
       "      <th>105</th>\n",
       "      <td>269645.0</td>\n",
       "    </tr>\n",
       "  </tbody>\n",
       "</table>\n",
       "</div>"
      ],
      "text/plain": [
       "                    cost\n",
       "                     sum\n",
       "room_id number          \n",
       "10      105     269645.0"
      ]
     },
     "execution_count": 59,
     "metadata": {},
     "output_type": "execute_result"
    }
   ],
   "source": [
    "df.groupby(by=['room_id','number'])\\\n",
    "    .agg({'cost' : ['sum']})\\\n",
    "    .sort_values(('cost','sum'),ascending=False)\\\n",
    "    .head(1)"
   ]
  },
  {
   "cell_type": "markdown",
   "metadata": {},
   "source": [
    "# Q3 How many times Jack Jones rent the room?"
   ]
  },
  {
   "cell_type": "code",
   "execution_count": 65,
   "metadata": {},
   "outputs": [
    {
     "data": {
      "text/plain": [
       "id_x                                1839\n",
       "start         2018-07-10 12:01:18.462109\n",
       "stop          2018-07-10 13:01:18.462109\n",
       "member_id                             48\n",
       "room_id                                7\n",
       "cost                                 100\n",
       "name                       Thomas Thomas\n",
       "number                               102\n",
       "hour_price                           100\n",
       "Name: 1, dtype: object"
      ]
     },
     "execution_count": 65,
     "metadata": {},
     "output_type": "execute_result"
    }
   ],
   "source": [
    "df.iloc[1]"
   ]
  },
  {
   "cell_type": "code",
   "execution_count": 71,
   "metadata": {},
   "outputs": [
    {
     "data": {
      "text/plain": [
       "id_x          35\n",
       "start         35\n",
       "stop          35\n",
       "member_id     35\n",
       "room_id       35\n",
       "cost          35\n",
       "name          35\n",
       "number        35\n",
       "hour_price    35\n",
       "dtype: int64"
      ]
     },
     "execution_count": 71,
     "metadata": {},
     "output_type": "execute_result"
    }
   ],
   "source": [
    "df[ df['name']=='Jack Jones' ].count()"
   ]
  },
  {
   "cell_type": "code",
   "execution_count": null,
   "metadata": {},
   "outputs": [],
   "source": []
  }
 ],
 "metadata": {
  "kernelspec": {
   "display_name": "Python 3",
   "language": "python",
   "name": "python3"
  },
  "language_info": {
   "codemirror_mode": {
    "name": "ipython",
    "version": 3
   },
   "file_extension": ".py",
   "mimetype": "text/x-python",
   "name": "python",
   "nbconvert_exporter": "python",
   "pygments_lexer": "ipython3",
   "version": "3.6.6"
  }
 },
 "nbformat": 4,
 "nbformat_minor": 2
}
